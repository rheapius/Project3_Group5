{
 "cells": [
  {
   "cell_type": "code",
   "execution_count": 62,
   "id": "133e92f5-1540-4f6f-8cee-4a370ad10823",
   "metadata": {},
   "outputs": [
    {
     "name": "stderr",
     "output_type": "stream",
     "text": [
      "/var/folders/p8/cl9ppncn4q5bnsfmk9lb9xtr0000gn/T/ipykernel_58896/1452029789.py:4: MovedIn20Warning: The ``declarative_base()`` function is now available as sqlalchemy.orm.declarative_base(). (deprecated since: 2.0) (Background on SQLAlchemy 2.0 at: https://sqlalche.me/e/b8d9)\n",
      "  Base = declarative_base()\n"
     ]
    }
   ],
   "source": [
    "from sqlalchemy import create_engine, inspect\n",
    "from sqlalchemy.orm import sessionmaker\n",
    "from sqlalchemy.ext.declarative import declarative_base\n",
    "Base = declarative_base()\n",
    "from sqlalchemy import Column, Integer, String, Float, ForeignKey \n",
    "import pandas as pd"
   ]
  },
  {
   "cell_type": "code",
   "execution_count": 63,
   "id": "37e24b01-e70a-4b7d-b79a-37ee430eb0cf",
   "metadata": {},
   "outputs": [],
   "source": [
    "class tracks (Base):\n",
    "    __tablename__= 'tracks'\n",
    "    id= Column(Integer, primary_key=True)\n",
    "    Track= Column(String)\n",
    "    Artist= Column (String)\n",
    "    Release_date= Column (Integer)\n",
    "    Streams= Column (Integer)\n",
    "    BPM= Column (Integer)\n",
    "    Key= Column (String)\n",
    "    Mode= Column (String)\n",
    "    Dancebility= Column(Integer)\n",
    "    Valence= Column(Integer)\n",
    "    Energy= Column(Integer)\n",
    "    Acousticness=Column(Integer)\n",
    "    Instrumentalness=Column(Integer)\n",
    "    Liveness= Column(Integer)\n",
    "    Speechiness= Column(Integer)\n",
    "\n",
    "class artist (Base):\n",
    "    __tablename__= 'artists'\n",
    "    id= Column (Integer, primary_key= True)\n",
    "    Artist= Column (String)\n",
    "    Streams= Column (Integer)\n",
    "    Dancebility= Column(Integer)\n",
    "    Valence= Column(Integer)\n",
    "    Energy= Column(Integer)\n",
    "    Acousticness=Column(Integer)\n",
    "    Instrumentalness=Column(Integer)\n",
    "    Liveness= Column(Integer)\n",
    "    Speechiness= Column(Integer)\n",
    "\n",
    "class spotify (Base):\n",
    "    __tablename__= 'spotify'\n",
    "    id= Column (Integer, primary_key= True)\n",
    "    Track= Column(String, ForeignKey('tracks.id'))\n",
    "    Spotify_playlists= Column(Integer)\n",
    "    Spotify_charts= Column(Integer)\n",
    "\n",
    "class apple (Base):\n",
    "    __tablename__= 'apple'\n",
    "    id= Column (Integer, primary_key= True)\n",
    "    Track= Column(String, ForeignKey('tracks.id'))\n",
    "    Apple_playlists= Column(Integer)\n",
    "    Apple_charts= Column(Integer)\n",
    "\n",
    "\n",
    "class deezer (Base):\n",
    "    __tablename__= 'deezer'\n",
    "    id= Column (Integer, primary_key= True)\n",
    "    Track= Column(String, ForeignKey('tracks.id'))\n",
    "    Deezer_playlists= Column(Integer)\n",
    "    Deezer_charts= Column(Integer)\n",
    "\n",
    "class shazam (Base):\n",
    "    __tablename__= 'shazam'\n",
    "    id= Column (Integer, primary_key= True)\n",
    "    Track= Column(String, ForeignKey('tracks.id'))\n",
    "    Shazam_charts= Column(Integer)\n",
    "   "
   ]
  },
  {
   "cell_type": "code",
   "execution_count": 64,
   "id": "d2b368ac-5a32-4195-be16-e13fac042da0",
   "metadata": {},
   "outputs": [],
   "source": [
    "engine = create_engine('sqlite:///topsongs.sqlite')\n",
    "\n",
    "Base.metadata.create_all(engine)\n"
   ]
  },
  {
   "cell_type": "code",
   "execution_count": 65,
   "id": "deefac5b-3f34-4cd6-96aa-d5d12ad5a208",
   "metadata": {},
   "outputs": [
    {
     "data": {
      "text/plain": [
       "953"
      ]
     },
     "execution_count": 65,
     "metadata": {},
     "output_type": "execute_result"
    }
   ],
   "source": [
    "track_df= pd.read_csv('track.csv')\n",
    "track_df.to_sql('tracks', engine, index=False, if_exists= 'append')"
   ]
  },
  {
   "cell_type": "code",
   "execution_count": 66,
   "id": "46fe448c-d8e9-4768-a925-5f80beb01731",
   "metadata": {},
   "outputs": [
    {
     "data": {
      "text/plain": [
       "645"
      ]
     },
     "execution_count": 66,
     "metadata": {},
     "output_type": "execute_result"
    }
   ],
   "source": [
    "artist_df= pd.read_csv('artist.csv')\n",
    "artist_df.to_sql('artists', engine, index=False, if_exists= 'append')"
   ]
  },
  {
   "cell_type": "code",
   "execution_count": 67,
   "id": "ec28694f-655d-4eb3-a13f-0f4f544da0fa",
   "metadata": {},
   "outputs": [
    {
     "data": {
      "text/plain": [
       "953"
      ]
     },
     "execution_count": 67,
     "metadata": {},
     "output_type": "execute_result"
    }
   ],
   "source": [
    "spotify_df= pd.read_csv('spotify.csv')\n",
    "spotify_df.to_sql('spotify', engine, index=False, if_exists= 'append')"
   ]
  },
  {
   "cell_type": "code",
   "execution_count": 68,
   "id": "dd48079b-8b54-4344-ab50-af2d8859444d",
   "metadata": {},
   "outputs": [
    {
     "data": {
      "text/plain": [
       "953"
      ]
     },
     "execution_count": 68,
     "metadata": {},
     "output_type": "execute_result"
    }
   ],
   "source": [
    "apple_df= pd.read_csv('apple.csv')\n",
    "apple_df.to_sql('apple', engine, index=False, if_exists= 'append')"
   ]
  },
  {
   "cell_type": "code",
   "execution_count": 69,
   "id": "c8752f5e-7356-4ccc-bbf3-1edfd186ed39",
   "metadata": {},
   "outputs": [
    {
     "data": {
      "text/plain": [
       "953"
      ]
     },
     "execution_count": 69,
     "metadata": {},
     "output_type": "execute_result"
    }
   ],
   "source": [
    "deezer_df= pd.read_csv('deezer.csv')\n",
    "deezer_df.to_sql('deezer', engine, index=False, if_exists= 'append')"
   ]
  },
  {
   "cell_type": "code",
   "execution_count": 70,
   "id": "41282098-12ca-4cdc-923c-b7cce0f03a56",
   "metadata": {},
   "outputs": [
    {
     "data": {
      "text/plain": [
       "953"
      ]
     },
     "execution_count": 70,
     "metadata": {},
     "output_type": "execute_result"
    }
   ],
   "source": [
    "shazam_df= pd.read_csv('shazam.csv')\n",
    "shazam_df.to_sql('shazam', engine, index=False, if_exists= 'append')"
   ]
  },
  {
   "cell_type": "code",
   "execution_count": 71,
   "id": "bec32e6d-84f8-4c94-ae6f-d43df53fa7e8",
   "metadata": {},
   "outputs": [
    {
     "data": {
      "text/plain": [
       "['apple', 'artists', 'deezer', 'shazam', 'spotify', 'tracks']"
      ]
     },
     "execution_count": 71,
     "metadata": {},
     "output_type": "execute_result"
    }
   ],
   "source": [
    "#inspecting tables\n",
    "\n",
    "inspector= inspect(engine)\n",
    "inspector.get_table_names()"
   ]
  },
  {
   "cell_type": "code",
   "execution_count": 74,
   "id": "c40e272a-5d89-4d4b-829d-e566f2e2b17a",
   "metadata": {},
   "outputs": [
    {
     "data": {
      "text/html": [
       "<div>\n",
       "<style scoped>\n",
       "    .dataframe tbody tr th:only-of-type {\n",
       "        vertical-align: middle;\n",
       "    }\n",
       "\n",
       "    .dataframe tbody tr th {\n",
       "        vertical-align: top;\n",
       "    }\n",
       "\n",
       "    .dataframe thead th {\n",
       "        text-align: right;\n",
       "    }\n",
       "</style>\n",
       "<table border=\"1\" class=\"dataframe\">\n",
       "  <thead>\n",
       "    <tr style=\"text-align: right;\">\n",
       "      <th></th>\n",
       "      <th>id</th>\n",
       "      <th>Track</th>\n",
       "      <th>Artist</th>\n",
       "      <th>Release_date</th>\n",
       "      <th>Streams</th>\n",
       "      <th>BPM</th>\n",
       "      <th>Key</th>\n",
       "      <th>Mode</th>\n",
       "      <th>Dancebility</th>\n",
       "      <th>Valence</th>\n",
       "      <th>Energy</th>\n",
       "      <th>Acousticness</th>\n",
       "      <th>Instrumentalness</th>\n",
       "      <th>Liveness</th>\n",
       "      <th>Speechiness</th>\n",
       "    </tr>\n",
       "  </thead>\n",
       "  <tbody>\n",
       "    <tr>\n",
       "      <th>0</th>\n",
       "      <td>1</td>\n",
       "      <td>Seven (feat. Latto) (Explicit Ver.)</td>\n",
       "      <td>Latto, Jung Kook</td>\n",
       "      <td>2023-07-14</td>\n",
       "      <td>141381703</td>\n",
       "      <td>125</td>\n",
       "      <td>B</td>\n",
       "      <td>Major</td>\n",
       "      <td>80</td>\n",
       "      <td>89</td>\n",
       "      <td>83</td>\n",
       "      <td>31</td>\n",
       "      <td>0</td>\n",
       "      <td>8</td>\n",
       "      <td>4</td>\n",
       "    </tr>\n",
       "    <tr>\n",
       "      <th>1</th>\n",
       "      <td>2</td>\n",
       "      <td>LALA</td>\n",
       "      <td>Myke Towers</td>\n",
       "      <td>2023-03-23</td>\n",
       "      <td>133716286</td>\n",
       "      <td>92</td>\n",
       "      <td>C#</td>\n",
       "      <td>Major</td>\n",
       "      <td>71</td>\n",
       "      <td>61</td>\n",
       "      <td>74</td>\n",
       "      <td>7</td>\n",
       "      <td>0</td>\n",
       "      <td>10</td>\n",
       "      <td>4</td>\n",
       "    </tr>\n",
       "    <tr>\n",
       "      <th>2</th>\n",
       "      <td>3</td>\n",
       "      <td>vampire</td>\n",
       "      <td>Olivia Rodrigo</td>\n",
       "      <td>2023-06-30</td>\n",
       "      <td>140003974</td>\n",
       "      <td>138</td>\n",
       "      <td>F</td>\n",
       "      <td>Major</td>\n",
       "      <td>51</td>\n",
       "      <td>32</td>\n",
       "      <td>53</td>\n",
       "      <td>17</td>\n",
       "      <td>0</td>\n",
       "      <td>31</td>\n",
       "      <td>6</td>\n",
       "    </tr>\n",
       "    <tr>\n",
       "      <th>3</th>\n",
       "      <td>4</td>\n",
       "      <td>Cruel Summer</td>\n",
       "      <td>Taylor Swift</td>\n",
       "      <td>2019-08-23</td>\n",
       "      <td>800840817</td>\n",
       "      <td>170</td>\n",
       "      <td>A</td>\n",
       "      <td>Major</td>\n",
       "      <td>55</td>\n",
       "      <td>58</td>\n",
       "      <td>72</td>\n",
       "      <td>11</td>\n",
       "      <td>0</td>\n",
       "      <td>11</td>\n",
       "      <td>15</td>\n",
       "    </tr>\n",
       "    <tr>\n",
       "      <th>4</th>\n",
       "      <td>5</td>\n",
       "      <td>WHERE SHE GOES</td>\n",
       "      <td>Bad Bunny</td>\n",
       "      <td>2023-05-18</td>\n",
       "      <td>303236322</td>\n",
       "      <td>144</td>\n",
       "      <td>A</td>\n",
       "      <td>Minor</td>\n",
       "      <td>65</td>\n",
       "      <td>23</td>\n",
       "      <td>80</td>\n",
       "      <td>14</td>\n",
       "      <td>63</td>\n",
       "      <td>11</td>\n",
       "      <td>6</td>\n",
       "    </tr>\n",
       "  </tbody>\n",
       "</table>\n",
       "</div>"
      ],
      "text/plain": [
       "   id                                Track            Artist Release_date  \\\n",
       "0   1  Seven (feat. Latto) (Explicit Ver.)  Latto, Jung Kook   2023-07-14   \n",
       "1   2                                 LALA       Myke Towers   2023-03-23   \n",
       "2   3                              vampire    Olivia Rodrigo   2023-06-30   \n",
       "3   4                         Cruel Summer      Taylor Swift   2019-08-23   \n",
       "4   5                       WHERE SHE GOES         Bad Bunny   2023-05-18   \n",
       "\n",
       "     Streams  BPM Key   Mode  Dancebility  Valence  Energy  Acousticness  \\\n",
       "0  141381703  125   B  Major           80       89      83            31   \n",
       "1  133716286   92  C#  Major           71       61      74             7   \n",
       "2  140003974  138   F  Major           51       32      53            17   \n",
       "3  800840817  170   A  Major           55       58      72            11   \n",
       "4  303236322  144   A  Minor           65       23      80            14   \n",
       "\n",
       "   Instrumentalness  Liveness  Speechiness  \n",
       "0                 0         8            4  \n",
       "1                 0        10            4  \n",
       "2                 0        31            6  \n",
       "3                 0        11           15  \n",
       "4                63        11            6  "
      ]
     },
     "execution_count": 74,
     "metadata": {},
     "output_type": "execute_result"
    }
   ],
   "source": [
    "# checking loaded data\n",
    "\n",
    "conn= engine.connect()\n",
    "track_data= pd.read_sql(\"SELECT * FROM tracks\", conn)\n",
    "track_data.head(5)"
   ]
  },
  {
   "cell_type": "code",
   "execution_count": null,
   "id": "48e04a13-55e9-4c8b-8e1e-6035bcb115d1",
   "metadata": {},
   "outputs": [],
   "source": []
  }
 ],
 "metadata": {
  "kernelspec": {
   "display_name": "Python 3 (ipykernel)",
   "language": "python",
   "name": "python3"
  },
  "language_info": {
   "codemirror_mode": {
    "name": "ipython",
    "version": 3
   },
   "file_extension": ".py",
   "mimetype": "text/x-python",
   "name": "python",
   "nbconvert_exporter": "python",
   "pygments_lexer": "ipython3",
   "version": "3.11.5"
  }
 },
 "nbformat": 4,
 "nbformat_minor": 5
}
